{
 "cells": [
  {
   "cell_type": "markdown",
   "id": "sixth-determination",
   "metadata": {},
   "source": [
    "## Capstone Project Notebook | Data Science | Coursera"
   ]
  },
  {
   "cell_type": "markdown",
   "id": "together-consolidation",
   "metadata": {},
   "source": [
    "The Aim of this notebook is to complete the IBM Data Science Coursera Capstone project."
   ]
  },
  {
   "cell_type": "code",
   "execution_count": 1,
   "id": "latter-professional",
   "metadata": {},
   "outputs": [],
   "source": [
    "import pandas as pd\n",
    "import numpy as np"
   ]
  },
  {
   "cell_type": "code",
   "execution_count": 2,
   "id": "supported-weekly",
   "metadata": {},
   "outputs": [
    {
     "name": "stdout",
     "output_type": "stream",
     "text": [
      "Hello Capstone Project Course!\n"
     ]
    }
   ],
   "source": [
    "print(\"Hello Capstone Project Course!\")"
   ]
  },
  {
   "cell_type": "code",
   "execution_count": null,
   "id": "seven-salon",
   "metadata": {},
   "outputs": [],
   "source": []
  }
 ],
 "metadata": {
  "kernelspec": {
   "display_name": "Python 3",
   "language": "python",
   "name": "python3"
  },
  "language_info": {
   "codemirror_mode": {
    "name": "ipython",
    "version": 3
   },
   "file_extension": ".py",
   "mimetype": "text/x-python",
   "name": "python",
   "nbconvert_exporter": "python",
   "pygments_lexer": "ipython3",
   "version": "3.9.2"
  }
 },
 "nbformat": 4,
 "nbformat_minor": 5
}
